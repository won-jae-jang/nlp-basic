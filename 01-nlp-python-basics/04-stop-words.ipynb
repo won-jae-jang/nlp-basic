{
 "cells": [
  {
   "cell_type": "markdown",
   "metadata": {},
   "source": [
    "Stop Words(불용어)\n",
    "- 의미를 가지지 않으며, 태깅이 필요 없는 단어들을 뜻한다\n",
    "- ex: 'a' the\n",
    "- 불용어는 자연어 처리 능력을 저하시킬 수 있으므로 적절히 제거해야 한다"
   ]
  },
  {
   "cell_type": "code",
   "execution_count": 1,
   "metadata": {},
   "outputs": [],
   "source": [
    "import spacy\n",
    "nlp = spacy.load('en_core_web_sm')"
   ]
  },
  {
   "cell_type": "code",
   "execution_count": 2,
   "metadata": {},
   "outputs": [
    {
     "name": "stdout",
     "output_type": "stream",
     "text": [
      "{'anything', 'on', 'nobody', 'as', \"n't\", 'somewhere', 'whether', 'cannot', 'anyhow', \"'ve\", 'have', 'we', \"'re\", 'first', 'quite', 'elsewhere', 'do', '‘s', 'two', 'it', 'amount', 'enough', 'whereby', 'doing', 'sometime', 'often', 'beside', 'eleven', 'whole', 'therefore', 'already', '‘ll', 'though', 'she', 'too', 'my', 'than', 'for', 'us', 'itself', 'the', 'which', 'those', 'afterwards', 'mostly', 'unless', 'empty', 'perhaps', 'many', 'once', 'bottom', 'amongst', '‘d', 'whither', 'sixty', 'yours', 'behind', 'more', 'five', 'may', 'had', 'others', 'ours', 'such', 'least', 'sometimes', 'without', '’re', 'has', 'made', 'down', 'who', 'no', 'nothing', 'otherwise', 'eight', 'himself', 'same', 'noone', 'are', 'every', 'from', 'why', 'her', 'go', 'none', 'several', 'does', 'should', 'below', 'nevertheless', 'until', 'somehow', 'whom', 'make', 'become', 'must', 'rather', 'after', 'n‘t', 'now', 'twenty', 'anyone', 'both', 'alone', 'toward', 'wherein', 'so', 'show', '’d', 'always', 'anyway', 'fifteen', 'call', 'his', 'what', 'fifty', 'full', 'about', 'front', 'neither', 'an', 're', 'another', 'over', 'their', 'becomes', 'into', 'during', 'serious', \"'m\", 'side', 'i', 'with', 'herself', 'therein', 'four', 'to', 'at', 'thereby', 'even', 'where', 'namely', 'am', \"'d\", 'between', 'third', 'throughout', 'whenever', 'there', 'becoming', 'became', 'out', 'hundred', 'ourselves', 'very', 'here', 'through', '’s', 'further', 'and', 'whereupon', 'or', 'its', 'of', 'twelve', 'next', 'be', 'together', 'yourself', 'either', 'when', 'top', 'all', '‘ve', '’ll', 'upon', 'take', 'you', 'keep', 'above', 'beyond', 'hereafter', 'he', 'these', '’ve', 'whereafter', 'few', 'hereupon', 'using', 'back', 'myself', 'among', 'everywhere', 'former', 'name', 'really', 'up', 'our', 'besides', 'can', 'thru', 'under', \"'ll\", 'less', 'me', 'whoever', 'seemed', 'never', 'herein', 'yet', 'a', '‘m', 'was', 'then', 'although', 'whatever', 'nor', 'everything', 'anywhere', 'ever', 'latterly', \"'s\", 'only', 'because', 'part', 'say', 'if', 'seeming', '’m', 'other', 'however', 'hereby', 'been', 'off', 'meanwhile', 'beforehand', 'see', 'that', 'against', 'indeed', 'again', 'will', 'moreover', 'everyone', 'this', 'hers', 'while', 'mine', 'formerly', 'almost', 'thereupon', 'three', 'yourselves', 'in', 'wherever', 'ca', 'but', 'well', 'n’t', 'done', 'him', 'around', 'just', 'themselves', 'forty', 'move', 'various', 'might', 'nowhere', 'give', 'onto', 'whence', 'due', 'since', 'being', 'by', 'per', '‘re', 'put', 'else', 'regarding', 'last', 'most', 'latter', 'thereafter', 'still', 'they', 'via', 'except', 'towards', 'whose', 'how', 'could', 'is', 'own', 'not', 'also', 'thence', 'before', 'seems', 'much', 'along', 'thus', 'any', 'someone', 'hence', 'seem', 'whereas', 'them', 'some', 'get', 'used', 'within', 'would', 'please', 'across', 'your', 'ten', 'one', 'were', 'did', 'nine', 'six', 'something', 'each'}\n"
     ]
    }
   ],
   "source": [
    "print(nlp.Defaults.stop_words)"
   ]
  },
  {
   "cell_type": "code",
   "execution_count": 3,
   "metadata": {},
   "outputs": [
    {
     "data": {
      "text/plain": [
       "326"
      ]
     },
     "execution_count": 3,
     "metadata": {},
     "output_type": "execute_result"
    }
   ],
   "source": [
    "len(nlp.Defaults.stop_words)"
   ]
  },
  {
   "cell_type": "code",
   "execution_count": 4,
   "metadata": {},
   "outputs": [
    {
     "data": {
      "text/plain": [
       "True"
      ]
     },
     "execution_count": 4,
     "metadata": {},
     "output_type": "execute_result"
    }
   ],
   "source": [
    "# 단어가 불용어에 해당하는지 확인하기\n",
    "nlp.vocab['myself'].is_stop # myself는 불용어가 맞음"
   ]
  },
  {
   "cell_type": "code",
   "execution_count": 5,
   "metadata": {},
   "outputs": [
    {
     "data": {
      "text/plain": [
       "False"
      ]
     },
     "execution_count": 5,
     "metadata": {},
     "output_type": "execute_result"
    }
   ],
   "source": [
    "nlp.vocab['mystery'].is_stop # mystery는 불용어가 아니다"
   ]
  },
  {
   "cell_type": "code",
   "execution_count": 6,
   "metadata": {},
   "outputs": [],
   "source": [
    "# 불용어 추가하기\n",
    "nlp.Defaults.stop_words.add('btw')\n",
    "nlp.vocab['btw'].is_stop = True"
   ]
  },
  {
   "cell_type": "code",
   "execution_count": 7,
   "metadata": {},
   "outputs": [
    {
     "data": {
      "text/plain": [
       "327"
      ]
     },
     "execution_count": 7,
     "metadata": {},
     "output_type": "execute_result"
    }
   ],
   "source": [
    "len(nlp.Defaults.stop_words) # 326 -> 327"
   ]
  },
  {
   "cell_type": "code",
   "execution_count": 8,
   "metadata": {},
   "outputs": [
    {
     "data": {
      "text/plain": [
       "True"
      ]
     },
     "execution_count": 8,
     "metadata": {},
     "output_type": "execute_result"
    }
   ],
   "source": [
    "nlp.vocab['btw'].is_stop"
   ]
  },
  {
   "cell_type": "code",
   "execution_count": 9,
   "metadata": {},
   "outputs": [],
   "source": [
    "# 불용어 제거하기\n",
    "nlp.Defaults.stop_words.remove('beyond')\n",
    "nlp.vocab['beyond'].is_stop = False"
   ]
  },
  {
   "cell_type": "code",
   "execution_count": 10,
   "metadata": {},
   "outputs": [
    {
     "data": {
      "text/plain": [
       "326"
      ]
     },
     "execution_count": 10,
     "metadata": {},
     "output_type": "execute_result"
    }
   ],
   "source": [
    "len(nlp.Defaults.stop_words) # 327 -> 326"
   ]
  },
  {
   "cell_type": "code",
   "execution_count": 11,
   "metadata": {},
   "outputs": [
    {
     "data": {
      "text/plain": [
       "False"
      ]
     },
     "execution_count": 11,
     "metadata": {},
     "output_type": "execute_result"
    }
   ],
   "source": [
    "nlp.vocab['beyond'].is_stop"
   ]
  },
  {
   "cell_type": "markdown",
   "metadata": {},
   "source": [
    "한국어 불용어 확인해보기"
   ]
  },
  {
   "cell_type": "code",
   "execution_count": 12,
   "metadata": {},
   "outputs": [],
   "source": [
    "ko_nlp = spacy.load('ko_core_news_sm')"
   ]
  },
  {
   "cell_type": "code",
   "execution_count": 13,
   "metadata": {},
   "outputs": [
    {
     "name": "stdout",
     "output_type": "stream",
     "text": [
      "{'오', '하', '되', '가', '점', '원', '그것', '수', '지', '때문', '보', '같', '년', '시키', '살', '이', '싶', '아니', '말', '이렇', '어떻', '일', '놓', '것', '나', '있', '않', '하나', '잘', '알', '그', '때', '말하', '또', '다른', '위하', '더', '한', '좀', '들', '등', '크', '데', '많', '두', '안', '어떤', '못하', '그리고', '없', '그렇', '번', '그런', '그러', '좋', '그러나', '주', '받'}\n"
     ]
    }
   ],
   "source": [
    "print(ko_nlp.Defaults.stop_words)"
   ]
  },
  {
   "cell_type": "code",
   "execution_count": 20,
   "metadata": {},
   "outputs": [
    {
     "data": {
      "text/plain": [
       "False"
      ]
     },
     "execution_count": 20,
     "metadata": {},
     "output_type": "execute_result"
    }
   ],
   "source": [
    "ko_nlp.vocab['이것'].is_stop"
   ]
  },
  {
   "cell_type": "code",
   "execution_count": 21,
   "metadata": {},
   "outputs": [
    {
     "data": {
      "text/plain": [
       "58"
      ]
     },
     "execution_count": 21,
     "metadata": {},
     "output_type": "execute_result"
    }
   ],
   "source": [
    "len(ko_nlp.Defaults.stop_words)"
   ]
  },
  {
   "cell_type": "code",
   "execution_count": null,
   "metadata": {},
   "outputs": [],
   "source": []
  }
 ],
 "metadata": {
  "kernelspec": {
   "display_name": "jupyterKernel",
   "language": "python",
   "name": "conda"
  },
  "language_info": {
   "codemirror_mode": {
    "name": "ipython",
    "version": 3
   },
   "file_extension": ".py",
   "mimetype": "text/x-python",
   "name": "python",
   "nbconvert_exporter": "python",
   "pygments_lexer": "ipython3",
   "version": "3.12.1"
  }
 },
 "nbformat": 4,
 "nbformat_minor": 2
}
