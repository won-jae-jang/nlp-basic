{
 "cells": [
  {
   "cell_type": "code",
   "execution_count": 2,
   "id": "34a2c584",
   "metadata": {},
   "outputs": [
    {
     "name": "stdout",
     "output_type": "stream",
     "text": [
      "his name is fred.\n",
      "his name is fred.\n"
     ]
    }
   ],
   "source": [
    "name = 'fred'\n",
    "print('his name is {var}.'.format(var=name))\n",
    "print(f'his name is {name}.')"
   ]
  },
  {
   "cell_type": "markdown",
   "id": "d88c0b6f",
   "metadata": {},
   "source": [
    " `!r` 넣으면 '변수' 이런식으로 포매팅해줌"
   ]
  },
  {
   "cell_type": "code",
   "execution_count": 3,
   "id": "97b3e730",
   "metadata": {},
   "outputs": [
    {
     "name": "stdout",
     "output_type": "stream",
     "text": [
      "his name is 'fred'.\n"
     ]
    }
   ],
   "source": [
    "print(f'his name is {name!r}.')"
   ]
  },
  {
   "cell_type": "markdown",
   "id": "5fa4bbd8",
   "metadata": {},
   "source": [
    "프린트 문 내부에 '' 가 중복될 경우 문제가 발생함 이런 경우 외부를 \"\"로 감싸주자"
   ]
  },
  {
   "cell_type": "code",
   "execution_count": 4,
   "id": "fbcd5cad",
   "metadata": {},
   "outputs": [],
   "source": [
    "d = {'a':1234, 'b':456}"
   ]
  },
  {
   "cell_type": "code",
   "execution_count": 5,
   "id": "e1ab66a3",
   "metadata": {},
   "outputs": [
    {
     "ename": "SyntaxError",
     "evalue": "f-string: unmatched '[' (3727534671.py, line 1)",
     "output_type": "error",
     "traceback": [
      "\u001b[1;36m  Cell \u001b[1;32mIn[5], line 1\u001b[1;36m\u001b[0m\n\u001b[1;33m    print(f'address: {d['a']} main street')\u001b[0m\n\u001b[1;37m                         ^\u001b[0m\n\u001b[1;31mSyntaxError\u001b[0m\u001b[1;31m:\u001b[0m f-string: unmatched '['\n"
     ]
    }
   ],
   "source": [
    "# 오류 예시\n",
    "print(f'address: {d['a']} main street')"
   ]
  },
  {
   "cell_type": "code",
   "execution_count": 6,
   "id": "adb86ed3",
   "metadata": {},
   "outputs": [
    {
     "name": "stdout",
     "output_type": "stream",
     "text": [
      "address: 1234 main street\n"
     ]
    }
   ],
   "source": [
    "# 올바른 예시\n",
    "print(f\"address: {d['a']} main street\")"
   ]
  },
  {
   "cell_type": "markdown",
   "id": "03aa521a",
   "metadata": {},
   "source": [
    "### 문자 포매팅 하기"
   ]
  },
  {
   "cell_type": "code",
   "execution_count": 7,
   "id": "cd91911c",
   "metadata": {},
   "outputs": [
    {
     "name": "stdout",
     "output_type": "stream",
     "text": [
      "Author     Topic    Pages  \n",
      "Twain      Rafting      601\n",
      "Feynman    Physics       95\n",
      "Hamilton   Mythology     144\n"
     ]
    }
   ],
   "source": [
    "library = [('Author', 'Topic', 'Pages'), ('Twain', 'Rafting', 601), ('Feynman', 'Physics', 95), ('Hamilton', 'Mythology', 144)]\n",
    "\n",
    "# book[2] 는 문자와 숫자가 섞여져 있어서 포매팅이 이상해진 것을 확인\n",
    "for book in library:\n",
    "    print(f\"{book[0]:{10}} {book[1]:{8}} {book[2]:{7}}\")"
   ]
  },
  {
   "cell_type": "code",
   "execution_count": 8,
   "id": "ce1608ad",
   "metadata": {},
   "outputs": [
    {
     "name": "stdout",
     "output_type": "stream",
     "text": [
      "Author     Topic    ..Pages\n",
      "Twain      Rafting  ....601\n",
      "Feynman    Physics  .....95\n",
      "Hamilton   Mythology ....144\n"
     ]
    }
   ],
   "source": [
    "# 위의 포매팅 문제를 해결하기 위해서 .> 를 추가해보자\n",
    "# .은 공간 확보된 곳을 보여준다\n",
    "# >는 자동으로 정렬 해준다 \n",
    "for book in library:\n",
    "    print(f\"{book[0]:{10}} {book[1]:{8}} {book[2]:.>{7}}\")"
   ]
  },
  {
   "cell_type": "markdown",
   "id": "1e5b8d61",
   "metadata": {},
   "source": [
    "### 시간 포매팅"
   ]
  },
  {
   "cell_type": "code",
   "execution_count": 9,
   "id": "748565d2",
   "metadata": {},
   "outputs": [
    {
     "name": "stdout",
     "output_type": "stream",
     "text": [
      "January 27, 2018\n"
     ]
    }
   ],
   "source": [
    "from datetime import datetime\n",
    "\n",
    "today = datetime(year=2018, month=1, day=27)\n",
    "\n",
    "print(f'{today:%B %d, %Y}')"
   ]
  },
  {
   "cell_type": "markdown",
   "id": "340cc4a3",
   "metadata": {},
   "source": [
    "### 파일 다루기"
   ]
  },
  {
   "cell_type": "code",
   "execution_count": 1,
   "id": "42be0a93",
   "metadata": {},
   "outputs": [
    {
     "name": "stdout",
     "output_type": "stream",
     "text": [
      "Writing test.txt\n"
     ]
    }
   ],
   "source": [
    "# 빠르게 파일 만들기. (주피터 환경에서만 가능)\n",
    "%%writefile test.txt\n",
    "Hello, this is a quick test file.\n",
    "This is the second line of the file."
   ]
  },
  {
   "cell_type": "code",
   "execution_count": 2,
   "id": "44159f1f",
   "metadata": {},
   "outputs": [
    {
     "ename": "FileNotFoundError",
     "evalue": "[Errno 2] No such file or directory: 'whoops.txt'",
     "output_type": "error",
     "traceback": [
      "\u001b[1;31m---------------------------------------------------------------------------\u001b[0m",
      "\u001b[1;31mFileNotFoundError\u001b[0m                         Traceback (most recent call last)",
      "Cell \u001b[1;32mIn[2], line 1\u001b[0m\n\u001b[1;32m----> 1\u001b[0m myfile \u001b[38;5;241m=\u001b[39m \u001b[38;5;28mopen\u001b[39m(\u001b[38;5;124m'\u001b[39m\u001b[38;5;124mwhoops.txt\u001b[39m\u001b[38;5;124m'\u001b[39m)\n",
      "File \u001b[1;32m~\\anaconda3\\Lib\\site-packages\\IPython\\core\\interactiveshell.py:286\u001b[0m, in \u001b[0;36m_modified_open\u001b[1;34m(file, *args, **kwargs)\u001b[0m\n\u001b[0;32m    279\u001b[0m \u001b[38;5;28;01mif\u001b[39;00m file \u001b[38;5;129;01min\u001b[39;00m {\u001b[38;5;241m0\u001b[39m, \u001b[38;5;241m1\u001b[39m, \u001b[38;5;241m2\u001b[39m}:\n\u001b[0;32m    280\u001b[0m     \u001b[38;5;28;01mraise\u001b[39;00m \u001b[38;5;167;01mValueError\u001b[39;00m(\n\u001b[0;32m    281\u001b[0m         \u001b[38;5;124mf\u001b[39m\u001b[38;5;124m\"\u001b[39m\u001b[38;5;124mIPython won\u001b[39m\u001b[38;5;124m'\u001b[39m\u001b[38;5;124mt let you open fd=\u001b[39m\u001b[38;5;132;01m{\u001b[39;00mfile\u001b[38;5;132;01m}\u001b[39;00m\u001b[38;5;124m by default \u001b[39m\u001b[38;5;124m\"\u001b[39m\n\u001b[0;32m    282\u001b[0m         \u001b[38;5;124m\"\u001b[39m\u001b[38;5;124mas it is likely to crash IPython. If you know what you are doing, \u001b[39m\u001b[38;5;124m\"\u001b[39m\n\u001b[0;32m    283\u001b[0m         \u001b[38;5;124m\"\u001b[39m\u001b[38;5;124myou can use builtins\u001b[39m\u001b[38;5;124m'\u001b[39m\u001b[38;5;124m open.\u001b[39m\u001b[38;5;124m\"\u001b[39m\n\u001b[0;32m    284\u001b[0m     )\n\u001b[1;32m--> 286\u001b[0m \u001b[38;5;28;01mreturn\u001b[39;00m io_open(file, \u001b[38;5;241m*\u001b[39margs, \u001b[38;5;241m*\u001b[39m\u001b[38;5;241m*\u001b[39mkwargs)\n",
      "\u001b[1;31mFileNotFoundError\u001b[0m: [Errno 2] No such file or directory: 'whoops.txt'"
     ]
    }
   ],
   "source": [
    "# 파일이 존재하지 않을 때 발생하는 오류\n",
    "myfile = open('whoops.txt')"
   ]
  },
  {
   "cell_type": "code",
   "execution_count": 3,
   "id": "9825b96d",
   "metadata": {},
   "outputs": [
    {
     "data": {
      "text/plain": [
       "'C:\\\\Users\\\\user\\\\Study\\\\nlp\\\\basic\\\\python-test-basic'"
      ]
     },
     "execution_count": 3,
     "metadata": {},
     "output_type": "execute_result"
    }
   ],
   "source": [
    "pwd"
   ]
  },
  {
   "cell_type": "code",
   "execution_count": 5,
   "id": "98625d6b",
   "metadata": {},
   "outputs": [],
   "source": [
    "my_file = open('test.txt')"
   ]
  },
  {
   "cell_type": "code",
   "execution_count": 6,
   "id": "438f3b41",
   "metadata": {},
   "outputs": [
    {
     "data": {
      "text/plain": [
       "<_io.TextIOWrapper name='test.txt' mode='r' encoding='cp949'>"
      ]
     },
     "execution_count": 6,
     "metadata": {},
     "output_type": "execute_result"
    }
   ],
   "source": [
    "my_file # default 읽기 모드"
   ]
  },
  {
   "cell_type": "code",
   "execution_count": 7,
   "id": "071fd355",
   "metadata": {},
   "outputs": [
    {
     "data": {
      "text/plain": [
       "'Hello, this is a quick test file.\\nThis is the second line of the file.\\n'"
      ]
     },
     "execution_count": 7,
     "metadata": {},
     "output_type": "execute_result"
    }
   ],
   "source": [
    "my_file.read()"
   ]
  },
  {
   "cell_type": "code",
   "execution_count": 8,
   "id": "0e4d3893",
   "metadata": {},
   "outputs": [
    {
     "data": {
      "text/plain": [
       "''"
      ]
     },
     "execution_count": 8,
     "metadata": {},
     "output_type": "execute_result"
    }
   ],
   "source": [
    "# 위 코드에서 파일을 읽으면서 버퍼가 맨 마지막줄로 이동함\n",
    "# 따라서 다시 읽기 메서드 호출시 빈 내용이 나오는 것이다\n",
    "my_file.read()"
   ]
  },
  {
   "cell_type": "code",
   "execution_count": 9,
   "id": "40cbadea",
   "metadata": {},
   "outputs": [
    {
     "data": {
      "text/plain": [
       "0"
      ]
     },
     "execution_count": 9,
     "metadata": {},
     "output_type": "execute_result"
    }
   ],
   "source": [
    "# 버퍼를 맨 앞줄로 이동시키기\n",
    "my_file.seek(0)"
   ]
  },
  {
   "cell_type": "code",
   "execution_count": 10,
   "id": "9ad184f2",
   "metadata": {},
   "outputs": [
    {
     "data": {
      "text/plain": [
       "'Hello, this is a quick test file.\\nThis is the second line of the file.\\n'"
      ]
     },
     "execution_count": 10,
     "metadata": {},
     "output_type": "execute_result"
    }
   ],
   "source": [
    "my_file.read() # 버퍼 이동후 출력시 잘 작동"
   ]
  },
  {
   "cell_type": "markdown",
   "id": "16745fdb",
   "metadata": {},
   "source": [
    "### .readlines()"
   ]
  },
  {
   "cell_type": "code",
   "execution_count": 11,
   "id": "3c4493ff",
   "metadata": {},
   "outputs": [
    {
     "data": {
      "text/plain": [
       "['Hello, this is a quick test file.\\n',\n",
       " 'This is the second line of the file.\\n']"
      ]
     },
     "execution_count": 11,
     "metadata": {},
     "output_type": "execute_result"
    }
   ],
   "source": [
    "my_file.seek(0)\n",
    "my_file.readlines() "
   ]
  },
  {
   "cell_type": "code",
   "execution_count": 12,
   "id": "ddbb174b",
   "metadata": {},
   "outputs": [],
   "source": [
    "my_file.close()"
   ]
  },
  {
   "cell_type": "markdown",
   "id": "99b05cad",
   "metadata": {},
   "source": [
    "### writing to a file"
   ]
  },
  {
   "cell_type": "code",
   "execution_count": 13,
   "id": "905c7cb6",
   "metadata": {},
   "outputs": [],
   "source": [
    "# +w 옵션은 기존 내용을 완전히 덮어쓴다.\n",
    "my_file = open('test.txt', 'w+')"
   ]
  },
  {
   "cell_type": "code",
   "execution_count": 14,
   "id": "4a2b36d5",
   "metadata": {},
   "outputs": [
    {
     "data": {
      "text/plain": [
       "24"
      ]
     },
     "execution_count": 14,
     "metadata": {},
     "output_type": "execute_result"
    }
   ],
   "source": [
    "my_file.write('this is a new first line')"
   ]
  },
  {
   "cell_type": "code",
   "execution_count": 15,
   "id": "8b169cc8",
   "metadata": {},
   "outputs": [
    {
     "data": {
      "text/plain": [
       "'this is a new first line'"
      ]
     },
     "execution_count": 15,
     "metadata": {},
     "output_type": "execute_result"
    }
   ],
   "source": [
    "# 이전에 작성한 내용은 사라지고 새로 작성된 내용만 반영\n",
    "my_file.seek(0)\n",
    "my_file.read()"
   ]
  },
  {
   "cell_type": "code",
   "execution_count": 16,
   "id": "d35d4fc3",
   "metadata": {},
   "outputs": [],
   "source": [
    "my_file.close()"
   ]
  },
  {
   "cell_type": "markdown",
   "id": "701d4326",
   "metadata": {},
   "source": [
    "### appending to a file"
   ]
  },
  {
   "cell_type": "code",
   "execution_count": 20,
   "id": "b6b9270b",
   "metadata": {},
   "outputs": [
    {
     "data": {
      "text/plain": [
       "23"
      ]
     },
     "execution_count": 20,
     "metadata": {},
     "output_type": "execute_result"
    }
   ],
   "source": [
    "# 기존 내용에 추가하고 싶다면 a+ 옵션 활용\n",
    "my_file = open('test.txt', 'a+')\n",
    "my_file.write('\\nThis line is being appended to test.txt')\n",
    "my_file.write('\\nAnd another line here.')"
   ]
  },
  {
   "cell_type": "code",
   "execution_count": 21,
   "id": "a60579b9",
   "metadata": {},
   "outputs": [
    {
     "name": "stdout",
     "output_type": "stream",
     "text": [
      "this is a new first line\n",
      "This line is being appended to test.txt\\And another line here.\n",
      "This line is being appended to test.txt\n",
      "And another line here.\n"
     ]
    }
   ],
   "source": [
    "my_file.seek(0)\n",
    "print(my_file.read())"
   ]
  },
  {
   "cell_type": "code",
   "execution_count": 22,
   "id": "1a68adc3",
   "metadata": {},
   "outputs": [],
   "source": [
    "my_file.close()"
   ]
  },
  {
   "cell_type": "markdown",
   "id": "18087c3e",
   "metadata": {},
   "source": [
    "### Aliases and context managers"
   ]
  },
  {
   "cell_type": "code",
   "execution_count": 23,
   "id": "9e2bc052",
   "metadata": {},
   "outputs": [
    {
     "name": "stdout",
     "output_type": "stream",
     "text": [
      "this is a new first line\n",
      "\n"
     ]
    }
   ],
   "source": [
    "# with .. 문법을 사용하면 자동으로 파일을 사용후 닫아준다.\n",
    "with open('test.txt', 'r') as txt:\n",
    "    first_line = txt.readlines()[0]\n",
    "    \n",
    "print(first_line)"
   ]
  },
  {
   "cell_type": "markdown",
   "id": "16f8aaaa",
   "metadata": {},
   "source": [
    "### Iterating through a file"
   ]
  },
  {
   "cell_type": "code",
   "execution_count": 26,
   "id": "daee026b",
   "metadata": {},
   "outputs": [
    {
     "name": "stdout",
     "output_type": "stream",
     "text": [
      "this is a new first line\n",
      "This line is being appended to test.txt\\And another line here.\n",
      "This line is being appended to test.txt\n",
      "And another line here."
     ]
    }
   ],
   "source": [
    "with open('test.txt', 'r') as txt:\n",
    "    for line in txt:\n",
    "        print(line, end='')"
   ]
  },
  {
   "cell_type": "code",
   "execution_count": null,
   "id": "46d72fdc",
   "metadata": {},
   "outputs": [],
   "source": []
  }
 ],
 "metadata": {
  "kernelspec": {
   "display_name": "Python 3 (ipykernel)",
   "language": "python",
   "name": "python3"
  },
  "language_info": {
   "codemirror_mode": {
    "name": "ipython",
    "version": 3
   },
   "file_extension": ".py",
   "mimetype": "text/x-python",
   "name": "python",
   "nbconvert_exporter": "python",
   "pygments_lexer": "ipython3",
   "version": "3.11.5"
  }
 },
 "nbformat": 4,
 "nbformat_minor": 5
}
