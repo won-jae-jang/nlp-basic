{
 "cells": [
  {
   "cell_type": "code",
   "execution_count": 1,
   "id": "ea493ac6",
   "metadata": {},
   "outputs": [],
   "source": [
    "text = \"The agent's phone number is 048-555-1234 call soon!\""
   ]
  },
  {
   "cell_type": "code",
   "execution_count": 3,
   "id": "c2aa34ae",
   "metadata": {},
   "outputs": [
    {
     "data": {
      "text/plain": [
       "True"
      ]
     },
     "execution_count": 3,
     "metadata": {},
     "output_type": "execute_result"
    }
   ],
   "source": [
    "'phone' in text"
   ]
  },
  {
   "cell_type": "code",
   "execution_count": 4,
   "id": "f1e513fa",
   "metadata": {},
   "outputs": [],
   "source": [
    "import re"
   ]
  },
  {
   "cell_type": "code",
   "execution_count": 5,
   "id": "391cee81",
   "metadata": {},
   "outputs": [],
   "source": [
    "patter = 'phone'"
   ]
  },
  {
   "cell_type": "code",
   "execution_count": 10,
   "id": "25d2f5d0",
   "metadata": {},
   "outputs": [],
   "source": [
    "match = re.search(patter, text)"
   ]
  },
  {
   "cell_type": "code",
   "execution_count": 11,
   "id": "02e046c1",
   "metadata": {},
   "outputs": [
    {
     "data": {
      "text/plain": [
       "<re.Match object; span=(12, 17), match='phone'>"
      ]
     },
     "execution_count": 11,
     "metadata": {},
     "output_type": "execute_result"
    }
   ],
   "source": [
    "match"
   ]
  },
  {
   "cell_type": "code",
   "execution_count": 12,
   "id": "80070ff8",
   "metadata": {},
   "outputs": [
    {
     "data": {
      "text/plain": [
       "(12, 17)"
      ]
     },
     "execution_count": 12,
     "metadata": {},
     "output_type": "execute_result"
    }
   ],
   "source": [
    "match.span()"
   ]
  },
  {
   "cell_type": "code",
   "execution_count": 13,
   "id": "5bade423",
   "metadata": {},
   "outputs": [
    {
     "data": {
      "text/plain": [
       "12"
      ]
     },
     "execution_count": 13,
     "metadata": {},
     "output_type": "execute_result"
    }
   ],
   "source": [
    "match.start()"
   ]
  },
  {
   "cell_type": "code",
   "execution_count": 14,
   "id": "d43edb0d",
   "metadata": {
    "scrolled": true
   },
   "outputs": [
    {
     "data": {
      "text/plain": [
       "17"
      ]
     },
     "execution_count": 14,
     "metadata": {},
     "output_type": "execute_result"
    }
   ],
   "source": [
    "match.end()"
   ]
  },
  {
   "cell_type": "markdown",
   "id": "9a79cd36",
   "metadata": {},
   "source": [
    "매칭 되는 결과가 없을 떄"
   ]
  },
  {
   "cell_type": "code",
   "execution_count": 15,
   "id": "71657db9",
   "metadata": {},
   "outputs": [],
   "source": [
    "patter = 'not in text'"
   ]
  },
  {
   "cell_type": "code",
   "execution_count": 16,
   "id": "c7a94fd1",
   "metadata": {},
   "outputs": [],
   "source": [
    "re.search(patter, text)"
   ]
  },
  {
   "cell_type": "markdown",
   "id": "5f9dc3a9",
   "metadata": {},
   "source": [
    "매칭되는 패턴이 여러개 일때"
   ]
  },
  {
   "cell_type": "code",
   "execution_count": 17,
   "id": "e6f9204d",
   "metadata": {},
   "outputs": [],
   "source": [
    "text = \"my phone is a new phone\"\n",
    "patter = 'phone'"
   ]
  },
  {
   "cell_type": "code",
   "execution_count": 18,
   "id": "f8ea18bb",
   "metadata": {},
   "outputs": [],
   "source": [
    "match = re.search(patter, text)"
   ]
  },
  {
   "cell_type": "code",
   "execution_count": 19,
   "id": "036c87a3",
   "metadata": {},
   "outputs": [
    {
     "data": {
      "text/plain": [
       "(3, 8)"
      ]
     },
     "execution_count": 19,
     "metadata": {},
     "output_type": "execute_result"
    }
   ],
   "source": [
    "match.span()"
   ]
  },
  {
   "cell_type": "code",
   "execution_count": 20,
   "id": "772c1941",
   "metadata": {},
   "outputs": [],
   "source": [
    "matches = re.findall(patter, text)"
   ]
  },
  {
   "cell_type": "code",
   "execution_count": 21,
   "id": "681ce1d4",
   "metadata": {},
   "outputs": [
    {
     "data": {
      "text/plain": [
       "['phone', 'phone']"
      ]
     },
     "execution_count": 21,
     "metadata": {},
     "output_type": "execute_result"
    }
   ],
   "source": [
    "matches"
   ]
  },
  {
   "cell_type": "code",
   "execution_count": 22,
   "id": "2006e3cc",
   "metadata": {},
   "outputs": [
    {
     "data": {
      "text/plain": [
       "2"
      ]
     },
     "execution_count": 22,
     "metadata": {},
     "output_type": "execute_result"
    }
   ],
   "source": [
    "len(matches)"
   ]
  },
  {
   "cell_type": "markdown",
   "id": "b72dbac3",
   "metadata": {},
   "source": [
    "매칭된 결과들을 반복문과 함께 사용하기"
   ]
  },
  {
   "cell_type": "code",
   "execution_count": 23,
   "id": "f097025c",
   "metadata": {},
   "outputs": [
    {
     "name": "stdout",
     "output_type": "stream",
     "text": [
      "phone\n",
      "phone\n"
     ]
    }
   ],
   "source": [
    "for match in re.finditer(patter, text):\n",
    "    print(match.group())"
   ]
  },
  {
   "cell_type": "markdown",
   "id": "596a779c",
   "metadata": {},
   "source": [
    "### Patterns"
   ]
  },
  {
   "cell_type": "markdown",
   "id": "d34f5dc4",
   "metadata": {},
   "source": [
    "- 정규식 패턴은 아래 표를 참고"
   ]
  },
  {
   "cell_type": "markdown",
   "id": "812d759c",
   "metadata": {},
   "source": [
    "<table ><tr><th>Character</th><th>Description</th><th>Example Pattern Code</th><th >Exammple Match</th></tr>\n",
    "\n",
    "<tr ><td><span >\\d</span></td><td>A digit</td><td>file_\\d\\d</td><td>file_25</td></tr>\n",
    "\n",
    "<tr ><td><span >\\w</span></td><td>Alphanumeric</td><td>\\w-\\w\\w\\w</td><td>A-b_1</td></tr>\n",
    "\n",
    "\n",
    "\n",
    "<tr ><td><span >\\s</span></td><td>White space</td><td>a\\sb\\sc</td><td>a b c</td></tr>\n",
    "\n",
    "\n",
    "\n",
    "<tr ><td><span >\\D</span></td><td>A non digit</td><td>\\D\\D\\D</td><td>ABC</td></tr>\n",
    "\n",
    "<tr ><td><span >\\W</span></td><td>Non-alphanumeric</td><td>\\W\\W\\W\\W\\W</td><td>*-+=)</td></tr>\n",
    "\n",
    "<tr ><td><span >\\S</span></td><td>Non-whitespace</td><td>\\S\\S\\S\\S</td><td>Yoyo</td></tr></table>"
   ]
  },
  {
   "cell_type": "code",
   "execution_count": 24,
   "id": "8866284b",
   "metadata": {},
   "outputs": [],
   "source": [
    "text = \"My telephone number is 408-555-1234\""
   ]
  },
  {
   "cell_type": "code",
   "execution_count": 25,
   "id": "2c0c37ba",
   "metadata": {},
   "outputs": [],
   "source": [
    "phone = re.search(r'\\d\\d\\d-\\d\\d\\d-\\d\\d\\d\\d', text)"
   ]
  },
  {
   "cell_type": "code",
   "execution_count": 26,
   "id": "fceb7a46",
   "metadata": {},
   "outputs": [
    {
     "data": {
      "text/plain": [
       "'408-555-1234'"
      ]
     },
     "execution_count": 26,
     "metadata": {},
     "output_type": "execute_result"
    }
   ],
   "source": [
    "phone.group()"
   ]
  },
  {
   "cell_type": "markdown",
   "id": "5474988e",
   "metadata": {},
   "source": [
    "### Quantifiers"
   ]
  },
  {
   "cell_type": "markdown",
   "id": "ccca52ac",
   "metadata": {},
   "source": [
    "- 반복적으로 사용하는 패턴들에 대해서 수량을 지정할 수 있음"
   ]
  },
  {
   "cell_type": "markdown",
   "id": "f002708e",
   "metadata": {},
   "source": [
    "<table ><tr><th>Character</th><th>Description</th><th>Example Pattern Code</th><th >Exammple Match</th></tr>\n",
    "\n",
    "<tr ><td><span >+</span></td><td>Occurs one or more times</td><td>\tVersion \\w-\\w+</td><td>Version A-b1_1</td></tr>\n",
    "\n",
    "<tr ><td><span >{3}</span></td><td>Occurs exactly 3 times</td><td>\\D{3}</td><td>abc</td></tr>\n",
    "\n",
    "\n",
    "\n",
    "<tr ><td><span >{2,4}</span></td><td>Occurs 2 to 4 times</td><td>\\d{2,4}</td><td>123</td></tr>\n",
    "\n",
    "\n",
    "\n",
    "<tr ><td><span >{3,}</span></td><td>Occurs 3 or more</td><td>\\w{3,}</td><td>anycharacters</td></tr>\n",
    "\n",
    "<tr ><td><span >\\*</span></td><td>Occurs zero or more times</td><td>A\\*B\\*C*</td><td>AAACC</td></tr>\n",
    "\n",
    "<tr ><td><span >?</span></td><td>Once or none</td><td>plurals?</td><td>plural</td></tr></table>"
   ]
  },
  {
   "cell_type": "code",
   "execution_count": 27,
   "id": "85297cab",
   "metadata": {},
   "outputs": [
    {
     "data": {
      "text/plain": [
       "'408-555-1234'"
      ]
     },
     "execution_count": 27,
     "metadata": {},
     "output_type": "execute_result"
    }
   ],
   "source": [
    "phone = re.search(r'\\d{3}-\\d{3}-\\d{4}', text)\n",
    "phone.group()"
   ]
  },
  {
   "cell_type": "markdown",
   "id": "16184a7b",
   "metadata": {},
   "source": [
    "### Groups"
   ]
  },
  {
   "cell_type": "code",
   "execution_count": 28,
   "id": "c87c382f",
   "metadata": {},
   "outputs": [],
   "source": [
    "phone_patter = re.compile(r'(\\d{3})-(\\d{3})-(\\d{4})')"
   ]
  },
  {
   "cell_type": "code",
   "execution_count": 29,
   "id": "3a84c20f",
   "metadata": {},
   "outputs": [],
   "source": [
    "results = re.search(phone_patter, text)"
   ]
  },
  {
   "cell_type": "code",
   "execution_count": 30,
   "id": "76970584",
   "metadata": {},
   "outputs": [
    {
     "data": {
      "text/plain": [
       "'408-555-1234'"
      ]
     },
     "execution_count": 30,
     "metadata": {},
     "output_type": "execute_result"
    }
   ],
   "source": [
    "results.group()"
   ]
  },
  {
   "cell_type": "code",
   "execution_count": 31,
   "id": "dc9b39d9",
   "metadata": {},
   "outputs": [
    {
     "data": {
      "text/plain": [
       "'408'"
      ]
     },
     "execution_count": 31,
     "metadata": {},
     "output_type": "execute_result"
    }
   ],
   "source": [
    "results.group(1)"
   ]
  },
  {
   "cell_type": "code",
   "execution_count": 32,
   "id": "5bb36506",
   "metadata": {},
   "outputs": [
    {
     "data": {
      "text/plain": [
       "'555'"
      ]
     },
     "execution_count": 32,
     "metadata": {},
     "output_type": "execute_result"
    }
   ],
   "source": [
    "results.group(2)"
   ]
  },
  {
   "cell_type": "code",
   "execution_count": 33,
   "id": "b6050be3",
   "metadata": {},
   "outputs": [
    {
     "data": {
      "text/plain": [
       "'1234'"
      ]
     },
     "execution_count": 33,
     "metadata": {},
     "output_type": "execute_result"
    }
   ],
   "source": [
    "results.group(3)"
   ]
  },
  {
   "cell_type": "markdown",
   "id": "87ee0306",
   "metadata": {},
   "source": [
    "### Aditional Syntax"
   ]
  },
  {
   "cell_type": "code",
   "execution_count": 34,
   "id": "0b3e4d23",
   "metadata": {},
   "outputs": [
    {
     "data": {
      "text/plain": [
       "<re.Match object; span=(5, 8), match='man'>"
      ]
     },
     "execution_count": 34,
     "metadata": {},
     "output_type": "execute_result"
    }
   ],
   "source": [
    "# | 는 or 연산자에 해당한다\n",
    "re.search(r\"man|woman\", 'this man was here.')"
   ]
  },
  {
   "cell_type": "code",
   "execution_count": 35,
   "id": "66dcfcec",
   "metadata": {},
   "outputs": [
    {
     "data": {
      "text/plain": [
       "<re.Match object; span=(5, 10), match='woman'>"
      ]
     },
     "execution_count": 35,
     "metadata": {},
     "output_type": "execute_result"
    }
   ],
   "source": [
    "re.search(r\"man|woman\", 'this woman was here.')"
   ]
  },
  {
   "cell_type": "markdown",
   "id": "43387919",
   "metadata": {},
   "source": [
    "### Wildcard Character"
   ]
  },
  {
   "cell_type": "code",
   "execution_count": 36,
   "id": "ae49b4f7",
   "metadata": {},
   "outputs": [
    {
     "data": {
      "text/plain": [
       "['cat', 'hat', 'sat']"
      ]
     },
     "execution_count": 36,
     "metadata": {},
     "output_type": "execute_result"
    }
   ],
   "source": [
    "# .at -> cat, hat ... \n",
    "re.findall(r\".at\", \"the cat in the hat sat here\")"
   ]
  },
  {
   "cell_type": "code",
   "execution_count": 37,
   "id": "3b3f8c91",
   "metadata": {},
   "outputs": [
    {
     "data": {
      "text/plain": [
       "['e bat', 'splat']"
      ]
     },
     "execution_count": 37,
     "metadata": {},
     "output_type": "execute_result"
    }
   ],
   "source": [
    "re.findall(r'...at', 'the bat went splat')"
   ]
  },
  {
   "cell_type": "markdown",
   "id": "ee0645c0",
   "metadata": {},
   "source": [
    "### Starts with and Ends with"
   ]
  },
  {
   "cell_type": "code",
   "execution_count": 38,
   "id": "2e856d6d",
   "metadata": {},
   "outputs": [
    {
     "data": {
      "text/plain": [
       "['2']"
      ]
     },
     "execution_count": 38,
     "metadata": {},
     "output_type": "execute_result"
    }
   ],
   "source": [
    "# $ 는 끝나는 패턴을 검색 ex) \\d$: 숫자로 끝나는 패턴\n",
    "re.findall(r'\\d$', 'this 1 ends with a number 2')"
   ]
  },
  {
   "cell_type": "code",
   "execution_count": 39,
   "id": "1a33bb53",
   "metadata": {},
   "outputs": [
    {
     "data": {
      "text/plain": [
       "['1']"
      ]
     },
     "execution_count": 39,
     "metadata": {},
     "output_type": "execute_result"
    }
   ],
   "source": [
    "# ^ 는 시작하는 패턴을 검색 ex) ^\\d:숫자로 싲가하는 패턴\n",
    "re.findall(r'^\\d', '1 is the loneliest number. 2')"
   ]
  },
  {
   "cell_type": "markdown",
   "id": "33b6108e",
   "metadata": {},
   "source": [
    "### Exclusion"
   ]
  },
  {
   "cell_type": "code",
   "execution_count": 40,
   "id": "304d9443",
   "metadata": {},
   "outputs": [],
   "source": [
    "phrase = \"there are 3 numbers 34 inside 5 this sentence.\""
   ]
  },
  {
   "cell_type": "code",
   "execution_count": 41,
   "id": "ef0e9fcd",
   "metadata": {},
   "outputs": [
    {
     "data": {
      "text/plain": [
       "['t',\n",
       " 'h',\n",
       " 'e',\n",
       " 'r',\n",
       " 'e',\n",
       " ' ',\n",
       " 'a',\n",
       " 'r',\n",
       " 'e',\n",
       " ' ',\n",
       " ' ',\n",
       " 'n',\n",
       " 'u',\n",
       " 'm',\n",
       " 'b',\n",
       " 'e',\n",
       " 'r',\n",
       " 's',\n",
       " ' ',\n",
       " ' ',\n",
       " 'i',\n",
       " 'n',\n",
       " 's',\n",
       " 'i',\n",
       " 'd',\n",
       " 'e',\n",
       " ' ',\n",
       " ' ',\n",
       " 't',\n",
       " 'h',\n",
       " 'i',\n",
       " 's',\n",
       " ' ',\n",
       " 's',\n",
       " 'e',\n",
       " 'n',\n",
       " 't',\n",
       " 'e',\n",
       " 'n',\n",
       " 'c',\n",
       " 'e',\n",
       " '.']"
      ]
     },
     "execution_count": 41,
     "metadata": {},
     "output_type": "execute_result"
    }
   ],
   "source": [
    "# [^조건] 내부에 조건들은 배제를 뜻한다.\n",
    "# 아래 코드는 숫자를 제외한 요소를 모두 찾아라 라는 뜻\n",
    "re.findall(r'[^\\d]', phrase)"
   ]
  },
  {
   "cell_type": "code",
   "execution_count": 42,
   "id": "d0379f42",
   "metadata": {},
   "outputs": [
    {
     "data": {
      "text/plain": [
       "['there are ', ' numbers ', ' inside ', ' this sentence.']"
      ]
     },
     "execution_count": 42,
     "metadata": {},
     "output_type": "execute_result"
    }
   ],
   "source": [
    "# 단어 단위로 가져오려면 + 기호를 함께 사용\n",
    "re.findall(r'[^\\d]+', phrase)"
   ]
  },
  {
   "cell_type": "markdown",
   "id": "11c0a027",
   "metadata": {},
   "source": [
    "문장에서 . ! ? 제거해보기"
   ]
  },
  {
   "cell_type": "code",
   "execution_count": 43,
   "id": "5f1e218b",
   "metadata": {},
   "outputs": [],
   "source": [
    "test_phrase = 'This is a string! But it has punctuation. How can we remove it?'"
   ]
  },
  {
   "cell_type": "code",
   "execution_count": 49,
   "id": "4e9aaa9b",
   "metadata": {},
   "outputs": [
    {
     "data": {
      "text/plain": [
       "['This is a string', ' But it has punctuation', ' How can we remove it']"
      ]
     },
     "execution_count": 49,
     "metadata": {},
     "output_type": "execute_result"
    }
   ],
   "source": [
    "re.findall(r'[^.!?]+', test_phrase)"
   ]
  },
  {
   "cell_type": "code",
   "execution_count": 46,
   "id": "e9e579f8",
   "metadata": {},
   "outputs": [],
   "source": [
    "clean = ''.join(re.findall(r'[^.!?]+', test_phrase))"
   ]
  },
  {
   "cell_type": "code",
   "execution_count": 47,
   "id": "2b9c7137",
   "metadata": {},
   "outputs": [
    {
     "data": {
      "text/plain": [
       "'This is a string But it has punctuation How can we remove it'"
      ]
     },
     "execution_count": 47,
     "metadata": {},
     "output_type": "execute_result"
    }
   ],
   "source": [
    "clean"
   ]
  },
  {
   "cell_type": "markdown",
   "id": "e5c9b07c",
   "metadata": {},
   "source": [
    "[ ] 사용해서 그룹화하기"
   ]
  },
  {
   "cell_type": "code",
   "execution_count": 50,
   "id": "13b0cf44",
   "metadata": {},
   "outputs": [],
   "source": [
    "text = 'Only find the hypen-words in this sentence. But you do not know how long-ish they are'"
   ]
  },
  {
   "cell_type": "code",
   "execution_count": 54,
   "id": "e2a5aa95",
   "metadata": {},
   "outputs": [],
   "source": [
    "# 아래 두 결과는 동일함\n",
    "result1 = re.findall(r'[\\w]+-[\\w]+', text)\n",
    "result2 = re.findall(r'\\w+-\\w+', text)"
   ]
  },
  {
   "cell_type": "code",
   "execution_count": null,
   "id": "9e36a8b2",
   "metadata": {},
   "outputs": [],
   "source": []
  }
 ],
 "metadata": {
  "kernelspec": {
   "display_name": "jupyterKernel",
   "language": "python",
   "name": "conda"
  },
  "language_info": {
   "codemirror_mode": {
    "name": "ipython",
    "version": 3
   },
   "file_extension": ".py",
   "mimetype": "text/x-python",
   "name": "python",
   "nbconvert_exporter": "python",
   "pygments_lexer": "ipython3",
   "version": "3.12.1"
  }
 },
 "nbformat": 4,
 "nbformat_minor": 5
}
